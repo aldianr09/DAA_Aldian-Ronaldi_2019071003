{
 "cells": [
  {
   "cell_type": "markdown",
   "metadata": {},
   "source": [
    "Quicksort"
   ]
  },
  {
   "cell_type": "code",
   "execution_count": 6,
   "metadata": {},
   "outputs": [],
   "source": [
    "def qs(list,awal,akhir):\n",
    "    if awal < akhir:\n",
    "        pindex = partisi(list,awal,akhir)\n",
    "        qs(list,awal,pindex-1)\n",
    "        qs(list,pindex+1,akhir)"
   ]
  },
  {
   "cell_type": "code",
   "execution_count": 7,
   "metadata": {},
   "outputs": [],
   "source": [
    "def partisi(list,awal,akhir):\n",
    "    tengah = int(akhir/2)\n",
    "    pivot = list[tengah]\n",
    "    pindex = awal\n",
    "    for i in range(awal,tengah):\n",
    "        if list[i]>=pivot:\n",
    "            list[i],list[pindex]=list[pindex],list[i]\n",
    "            pindex = pindex + 1\n",
    "    list[pindex],list[tengah]=list[tengah],list[pindex]\n",
    "    print(list)\n",
    "    return pindex"
   ]
  },
  {
   "cell_type": "code",
   "execution_count": 12,
   "metadata": {},
   "outputs": [
    {
     "name": "stdout",
     "output_type": "stream",
     "text": [
      "Data yang di sort : [17, 12, 57, 8, 16, 25]\n",
      "Quick Sort :\n",
      "[57, 12, 17, 8, 16, 25]\n",
      "[57, 17, 12, 8, 16, 25]\n",
      "[57, 17, 12, 8, 16, 25]\n",
      "[57, 17, 8, 12, 16, 25]\n",
      "[57, 17, 16, 12, 8, 25]\n"
     ]
    }
   ],
   "source": [
    "list = [17,12,57,8,16,25]\n",
    "print('Data yang di sort :', list)\n",
    "print('Quick Sort :')\n",
    "qs(list,0,len(list)-1)"
   ]
  },
  {
   "cell_type": "code",
   "execution_count": null,
   "metadata": {},
   "outputs": [],
   "source": []
  }
 ],
 "metadata": {
  "kernelspec": {
   "display_name": "Python 3",
   "language": "python",
   "name": "python3"
  },
  "language_info": {
   "codemirror_mode": {
    "name": "ipython",
    "version": 3
   },
   "file_extension": ".py",
   "mimetype": "text/x-python",
   "name": "python",
   "nbconvert_exporter": "python",
   "pygments_lexer": "ipython3",
   "version": "3.8.3"
  }
 },
 "nbformat": 4,
 "nbformat_minor": 4
}
