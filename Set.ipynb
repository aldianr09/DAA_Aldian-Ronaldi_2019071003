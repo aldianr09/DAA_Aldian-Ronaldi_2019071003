{
 "cells": [
  {
   "cell_type": "code",
   "execution_count": 1,
   "metadata": {},
   "outputs": [
    {
     "name": "stdout",
     "output_type": "stream",
     "text": [
      "{'leaves', 'grass'}\n"
     ]
    }
   ],
   "source": [
    "green = {'grass','leaves'}\n",
    "print(green)"
   ]
  },
  {
   "cell_type": "code",
   "execution_count": 5,
   "metadata": {},
   "outputs": [],
   "source": [
    "yellow = {'dandelions','fire hydrant','leaves'}\n",
    "red = {'fire hydrant','blood','rose','leaves'}"
   ]
  },
  {
   "cell_type": "code",
   "execution_count": 6,
   "metadata": {},
   "outputs": [
    {
     "name": "stdout",
     "output_type": "stream",
     "text": [
      "The union of yellow and red sets is {'leaves', 'dandelions', 'blood', 'rose', 'fire hydrant'}\n"
     ]
    }
   ],
   "source": [
    "print(f\"The union of yellow and red sets is {yellow|red}\")"
   ]
  },
  {
   "cell_type": "code",
   "execution_count": 7,
   "metadata": {},
   "outputs": [
    {
     "name": "stdout",
     "output_type": "stream",
     "text": [
      "The intersaction of yellow and red is {'leaves', 'fire hydrant'}\n"
     ]
    }
   ],
   "source": [
    "print(f\"The intersaction of yellow and red is {yellow&red}\")"
   ]
  },
  {
   "cell_type": "code",
   "execution_count": null,
   "metadata": {},
   "outputs": [],
   "source": []
  }
 ],
 "metadata": {
  "kernelspec": {
   "display_name": "Python 3",
   "language": "python",
   "name": "python3"
  },
  "language_info": {
   "codemirror_mode": {
    "name": "ipython",
    "version": 3
   },
   "file_extension": ".py",
   "mimetype": "text/x-python",
   "name": "python",
   "nbconvert_exporter": "python",
   "pygments_lexer": "ipython3",
   "version": "3.8.3"
  }
 },
 "nbformat": 4,
 "nbformat_minor": 4
}
