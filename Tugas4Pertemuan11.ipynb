{
 "cells": [
  {
   "cell_type": "markdown",
   "metadata": {},
   "source": [
    "#  UNDIRECTED GRAPHS"
   ]
  },
  {
   "cell_type": "code",
   "execution_count": 38,
   "metadata": {},
   "outputs": [],
   "source": [
    "from collections import defaultdict \n",
    "  \n",
    "class Graph(): \n",
    "    def __init__(self,vertices): \n",
    "        self.graph = defaultdict(list) \n",
    "        self.V = vertices \n",
    "  \n",
    "    def addEdge(self,u,v): \n",
    "        self.graph[u].append(v) \n",
    "  \n",
    "    def isCyclicUtil(self, v, visited, recStack): \n",
    "  \n",
    "        visited[v] = True\n",
    "        recStack[v] = True\n",
    "        for neighbour in self.graph[v]: \n",
    "            if visited[neighbour] == False: \n",
    "                if self.isCyclicUtil(neighbour, visited, recStack) == True: \n",
    "                    return True\n",
    "            elif recStack[neighbour] == True: \n",
    "                return True\n",
    "        recStack[v] = False\n",
    "        return False\n",
    "    def isCyclic(self): \n",
    "        visited = [False] * self.V \n",
    "        recStack = [False] * self.V \n",
    "        for node in range(self.V): \n",
    "            if visited[node] == False: \n",
    "                if self.isCyclicUtil(node,visited,recStack) == True: \n",
    "                    return True\n",
    "        return False\n"
   ]
  },
  {
   "cell_type": "code",
   "execution_count": 42,
   "metadata": {},
   "outputs": [],
   "source": [
    "g = Graph(4) \n",
    "g.addEdge(0, 1) \n",
    "g.addEdge(0, 2) \n",
    "g.addEdge(1, 2) \n",
    "g.addEdge(2, 0) \n",
    "g.addEdge(2, 3) \n",
    "g.addEdge(3, 3)  "
   ]
  },
  {
   "cell_type": "code",
   "execution_count": 48,
   "metadata": {},
   "outputs": [
    {
     "name": "stdout",
     "output_type": "stream",
     "text": [
      "Graph has a cycle\n"
     ]
    }
   ],
   "source": [
    "if g.isCyclic() == 1: \n",
    "    print (\"Graph has a cycle\")\n",
    "else: \n",
    "    print (\"Graph has no cycle\")\n",
    "    \n",
    "\n",
    "     "
   ]
  }
 ],
 "metadata": {
  "kernelspec": {
   "display_name": "Python 3",
   "language": "python",
   "name": "python3"
  },
  "language_info": {
   "codemirror_mode": {
    "name": "ipython",
    "version": 3
   },
   "file_extension": ".py",
   "mimetype": "text/x-python",
   "name": "python",
   "nbconvert_exporter": "python",
   "pygments_lexer": "ipython3",
   "version": "3.8.3"
  }
 },
 "nbformat": 4,
 "nbformat_minor": 4
}
