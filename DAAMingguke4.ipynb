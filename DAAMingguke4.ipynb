{
 "cells": [
  {
   "cell_type": "markdown",
   "metadata": {},
   "source": [
    "Bubble Sort"
   ]
  },
  {
   "cell_type": "code",
   "execution_count": 1,
   "metadata": {},
   "outputs": [],
   "source": [
    "list = [35,76,61,51,43,31]"
   ]
  },
  {
   "cell_type": "code",
   "execution_count": 2,
   "metadata": {},
   "outputs": [],
   "source": [
    "def BubbleSort(list):\n",
    "    \n",
    "    lastElementIndex = len(list)-1\n",
    "    for passNo in range (lastElementIndex,0,1):\n",
    "        for idx in range (passNO):\n",
    "            if list [idx]>list[idx+1]:\n",
    "                list[idx],list[idx+1]= list[idx+1],list[idx]\n",
    "                print (list)\n",
    "    return list"
   ]
  },
  {
   "cell_type": "code",
   "execution_count": 3,
   "metadata": {},
   "outputs": [
    {
     "name": "stdout",
     "output_type": "stream",
     "text": [
      "[35, 76, 61, 51, 43, 31]\n"
     ]
    }
   ],
   "source": [
    "BubbleSort(list)\n",
    "print(list)"
   ]
  },
  {
   "cell_type": "code",
   "execution_count": 4,
   "metadata": {},
   "outputs": [
    {
     "data": {
      "text/plain": [
       "[35, 76, 61, 51, 43, 31]"
      ]
     },
     "execution_count": 4,
     "metadata": {},
     "output_type": "execute_result"
    }
   ],
   "source": [
    "list"
   ]
  },
  {
   "cell_type": "markdown",
   "metadata": {},
   "source": [
    "Insertion Sort"
   ]
  },
  {
   "cell_type": "code",
   "execution_count": 5,
   "metadata": {},
   "outputs": [],
   "source": [
    "list = [35,76,61,60,53,51]"
   ]
  },
  {
   "cell_type": "code",
   "execution_count": 6,
   "metadata": {},
   "outputs": [],
   "source": [
    "def InsertionSort(list):\n",
    "    for i in range (1,len(list)):\n",
    "        j=i-1\n",
    "        element_next=list[i]\n",
    "        while(list[j]>element_next) and(j>=0):\n",
    "            list[j+1]=list[j]\n",
    "            j=j-1\n",
    "            list[j+1]=element_next\n",
    "            return list"
   ]
  },
  {
   "cell_type": "code",
   "execution_count": 7,
   "metadata": {},
   "outputs": [
    {
     "name": "stdout",
     "output_type": "stream",
     "text": [
      "[35, 61, 76, 60, 53, 51]\n"
     ]
    }
   ],
   "source": [
    "InsertionSort(list)\n",
    "print(list)"
   ]
  },
  {
   "cell_type": "code",
   "execution_count": 8,
   "metadata": {},
   "outputs": [
    {
     "data": {
      "text/plain": [
       "[35, 61, 76, 60, 53, 51]"
      ]
     },
     "execution_count": 8,
     "metadata": {},
     "output_type": "execute_result"
    }
   ],
   "source": [
    "list"
   ]
  },
  {
   "cell_type": "markdown",
   "metadata": {},
   "source": [
    "Selection Sort"
   ]
  },
  {
   "cell_type": "code",
   "execution_count": 14,
   "metadata": {},
   "outputs": [],
   "source": [
    "def SelectionSort(list):\n",
    "    for fill_slot in range (len(list)-1,0,-1):\n",
    "        max_index=0\n",
    "        for location in range(1,fill_slot+1):\n",
    "            if list[location]> list[max_index]:\n",
    "                max_index = location\n",
    "                list[fill_slot],list[max_index]= list[max_index],list[fill_slot]"
   ]
  },
  {
   "cell_type": "code",
   "execution_count": 15,
   "metadata": {},
   "outputs": [
    {
     "name": "stdout",
     "output_type": "stream",
     "text": [
      "[22, 44, 63, 90, 84, 86, 55]\n"
     ]
    }
   ],
   "source": [
    "list = [22,55,44,63,86,84,90]\n",
    "SelectionSort(list)\n",
    "print(list)"
   ]
  },
  {
   "cell_type": "code",
   "execution_count": 16,
   "metadata": {},
   "outputs": [
    {
     "data": {
      "text/plain": [
       "[22, 44, 63, 90, 84, 86, 55]"
      ]
     },
     "execution_count": 16,
     "metadata": {},
     "output_type": "execute_result"
    }
   ],
   "source": [
    "list"
   ]
  },
  {
   "cell_type": "markdown",
   "metadata": {},
   "source": [
    "Linear Search"
   ]
  },
  {
   "cell_type": "code",
   "execution_count": 19,
   "metadata": {},
   "outputs": [],
   "source": [
    "def LinearSearch(list, item):\n",
    "    index = 0\n",
    "    found = False\n",
    "    while index < len(list) and found is False:\n",
    "        if list[index] ==item:\n",
    "            found= True\n",
    "        else:\n",
    "             index = index + 1\n",
    "    return found"
   ]
  },
  {
   "cell_type": "code",
   "execution_count": 20,
   "metadata": {},
   "outputs": [
    {
     "name": "stdout",
     "output_type": "stream",
     "text": [
      "True\n",
      "False\n"
     ]
    }
   ],
   "source": [
    "list = [22,55,44,63,86,84,90]\n",
    "print(LinearSearch(list,55))\n",
    "print(LinearSearch(list,81))"
   ]
  },
  {
   "cell_type": "markdown",
   "metadata": {},
   "source": [
    "Binary Search"
   ]
  },
  {
   "cell_type": "code",
   "execution_count": 23,
   "metadata": {},
   "outputs": [],
   "source": [
    "def BinarySearch(list,item):\n",
    "    first = 0\n",
    "    last = len(list)-1\n",
    "    found = False\n",
    "    while first<=last and not found:\n",
    "        midpoint = (first+last)//2\n",
    "        if list [midpoint] == item:\n",
    "            found = True \n",
    "        else:\n",
    "            if item <list[midpoint]:\n",
    "                last = midpoint-1\n",
    "            else:\n",
    "                first = midpoint + 1\n",
    "    return found"
   ]
  },
  {
   "cell_type": "code",
   "execution_count": 24,
   "metadata": {},
   "outputs": [
    {
     "name": "stdout",
     "output_type": "stream",
     "text": [
      "False\n",
      "True\n"
     ]
    }
   ],
   "source": [
    "list = [55,81,44,22,45,51,29]\n",
    "sorted_list = BubbleSort(list)\n",
    "print(BinarySearch(list,81))\n",
    "print(BinarySearch(list,22))"
   ]
  },
  {
   "cell_type": "markdown",
   "metadata": {},
   "source": [
    "Interpolation Sort"
   ]
  },
  {
   "cell_type": "code",
   "execution_count": 30,
   "metadata": {},
   "outputs": [],
   "source": [
    "def InterPolasearch(list,x):\n",
    "    idx0 = 0 \n",
    "    idxn = (len(list)-1)\n",
    "    found = False\n",
    "    while idx0<=idxn and x >= list[idx0]and x <=list[idxn]:\n",
    "        mid = idx0 + int (((float(idxn-idx0)/(list[idxn]- list[idx0]))*(x-list[idx0])))\n",
    "        searchvalue\n",
    "        if list[mid]==x:\n",
    "            found=True\n",
    "            return found\n",
    "        if list [mid]<x:\n",
    "            idx0=mid+1\n",
    "    return found"
   ]
  },
  {
   "cell_type": "code",
   "execution_count": 31,
   "metadata": {},
   "outputs": [
    {
     "name": "stdout",
     "output_type": "stream",
     "text": [
      "True\n",
      "False\n"
     ]
    }
   ],
   "source": [
    "list = [55,81,44,22,45,51,29]\n",
    "sorted_list = BubbleSort(list)\n",
    "print(BinarySearch(list,22))\n",
    "print(BinarySearch(list,81))"
   ]
  },
  {
   "cell_type": "code",
   "execution_count": null,
   "metadata": {},
   "outputs": [],
   "source": []
  }
 ],
 "metadata": {
  "kernelspec": {
   "display_name": "Python 3",
   "language": "python",
   "name": "python3"
  },
  "language_info": {
   "codemirror_mode": {
    "name": "ipython",
    "version": 3
   },
   "file_extension": ".py",
   "mimetype": "text/x-python",
   "name": "python",
   "nbconvert_exporter": "python",
   "pygments_lexer": "ipython3",
   "version": "3.8.3"
  }
 },
 "nbformat": 4,
 "nbformat_minor": 4
}
